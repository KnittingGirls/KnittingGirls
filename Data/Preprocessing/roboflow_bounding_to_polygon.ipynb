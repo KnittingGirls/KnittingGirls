{
  "nbformat": 4,
  "nbformat_minor": 0,
  "metadata": {
    "colab": {
      "provenance": []
    },
    "kernelspec": {
      "name": "python3",
      "display_name": "Python 3"
    },
    "language_info": {
      "name": "python"
    }
  },
  "cells": [
    {
      "cell_type": "code",
      "execution_count": null,
      "metadata": {
        "id": "pU3Rcqqk17n2"
      },
      "outputs": [],
      "source": [
        "import json\n",
        "\n",
        "# JSON 파일 경로\n",
        "input_folder = 'data'\n",
        "output_folder = 'processed'\n",
        "\n",
        "# 변경 로직\n",
        "for i in range(1,110):\n",
        "    input_file_path = 'data/{}.json'.format(i)\n",
        "    with open(input_file_path, 'r') as file:\n",
        "        data = json.load(file)\n",
        "    for annotation in data['annotations']:\n",
        "        if len(annotation['polygon']) == 2:  # polygon에 원소가 2개인 경우\n",
        "            x1, y1 = annotation['polygon'][0]\n",
        "            x2, y2 = annotation['polygon'][1]\n",
        "\n",
        "            # 새로운 polygon 포인트 계산\n",
        "\n",
        "            annotation['polygon'] = [\n",
        "                [x1-x2/2, y1-y2/2],\n",
        "                [x1-x2/2, y1 + y2/2],\n",
        "                [x1 + x2/2, y1 + y2/2],\n",
        "                [x1 + x2/2, y1-y2/2]\n",
        "            ]\n",
        "\n",
        "    # JSON 데이터 저장\n",
        "    output_file_path = 'processed/{}.json'.format(i)\n",
        "    with open(output_file_path, 'w') as file:\n",
        "        json.dump(data, file, indent=4)\n",
        "\n",
        "# print(f\"변환된 파일이 {output_file_path}에 저장되었습니다.\")\n"
      ]
    },
    {
      "cell_type": "code",
      "source": [
        "from google.colab import drive\n",
        "drive.mount('/drive')"
      ],
      "metadata": {
        "colab": {
          "base_uri": "https://localhost:8080/"
        },
        "id": "boRK-FIs6HvG",
        "outputId": "a03162be-8c71-4298-c9a5-117bd3266498"
      },
      "execution_count": null,
      "outputs": [
        {
          "output_type": "stream",
          "name": "stdout",
          "text": [
            "Drive already mounted at /drive; to attempt to forcibly remount, call drive.mount(\"/drive\", force_remount=True).\n"
          ]
        }
      ]
    },
    {
      "cell_type": "code",
      "source": [
        "!zip -r dataset3.zip processed/"
      ],
      "metadata": {
        "colab": {
          "base_uri": "https://localhost:8080/"
        },
        "id": "E69CR3bWxyGu",
        "outputId": "22ce317d-7068-4c03-a2e9-1ae2abf22db5"
      },
      "execution_count": null,
      "outputs": [
        {
          "output_type": "stream",
          "name": "stdout",
          "text": [
            "  adding: processed/ (stored 0%)\n",
            "  adding: processed/74.json (deflated 84%)\n",
            "  adding: processed/14.json (deflated 75%)\n",
            "  adding: processed/59.json (deflated 88%)\n",
            "  adding: processed/2.json (deflated 87%)\n",
            "  adding: processed/31.json (deflated 88%)\n",
            "  adding: processed/84.json (deflated 90%)\n",
            "  adding: processed/39.json (deflated 93%)\n",
            "  adding: processed/73.json (deflated 85%)\n",
            "  adding: processed/60.json (deflated 92%)\n",
            "  adding: processed/47.json (deflated 73%)\n",
            "  adding: processed/37.json (deflated 74%)\n",
            "  adding: processed/52.json (deflated 74%)\n",
            "  adding: processed/64.json (deflated 69%)\n",
            "  adding: processed/28.json (deflated 91%)\n",
            "  adding: processed/93.json (deflated 92%)\n",
            "  adding: processed/78.json (deflated 87%)\n",
            "  adding: processed/66.json (deflated 93%)\n",
            "  adding: processed/43.json (deflated 75%)\n",
            "  adding: processed/18.json (deflated 73%)\n",
            "  adding: processed/53.json (deflated 94%)\n",
            "  adding: processed/13.json (deflated 77%)\n",
            "  adding: processed/106.json (deflated 90%)\n",
            "  adding: processed/107.json (deflated 85%)\n",
            "  adding: processed/63.json (deflated 72%)\n",
            "  adding: processed/41.json (deflated 76%)\n",
            "  adding: processed/88.json (deflated 88%)\n",
            "  adding: processed/6.json (deflated 77%)\n",
            "  adding: processed/68.json (deflated 88%)\n",
            "  adding: processed/92.json (deflated 89%)\n",
            "  adding: processed/61.json (deflated 89%)\n",
            "  adding: processed/5.json (deflated 77%)\n",
            "  adding: processed/57.json (deflated 76%)\n",
            "  adding: processed/3.json (deflated 89%)\n",
            "  adding: processed/26.json (deflated 71%)\n",
            "  adding: processed/75.json (deflated 92%)\n",
            "  adding: processed/67.json (deflated 91%)\n",
            "  adding: processed/83.json (deflated 94%)\n",
            "  adding: processed/32.json (deflated 85%)\n",
            "  adding: processed/45.json (deflated 72%)\n",
            "  adding: processed/86.json (deflated 94%)\n",
            "  adding: processed/95.json (deflated 92%)\n",
            "  adding: processed/15.json (deflated 78%)\n",
            "  adding: processed/16.json (deflated 78%)\n",
            "  adding: processed/72.json (deflated 89%)\n",
            "  adding: processed/49.json (deflated 88%)\n",
            "  adding: processed/22.json (deflated 76%)\n",
            "  adding: processed/36.json (deflated 87%)\n",
            "  adding: processed/33.json (deflated 89%)\n",
            "  adding: processed/82.json (deflated 91%)\n",
            "  adding: processed/7.json (deflated 89%)\n",
            "  adding: processed/79.json (deflated 84%)\n",
            "  adding: processed/25.json (deflated 77%)\n",
            "  adding: processed/103.json (deflated 91%)\n",
            "  adding: processed/108.json (deflated 87%)\n",
            "  adding: processed/70.json (deflated 87%)\n",
            "  adding: processed/38.json (deflated 77%)\n",
            "  adding: processed/10.json (stored 0%)\n",
            "  adding: processed/19.json (deflated 76%)\n",
            "  adding: processed/8.json (deflated 77%)\n",
            "  adding: processed/81.json (deflated 90%)\n",
            "  adding: processed/58.json (deflated 75%)\n",
            "  adding: processed/71.json (deflated 90%)\n",
            "  adding: processed/76.json (deflated 87%)\n",
            "  adding: processed/96.json (deflated 85%)\n",
            "  adding: processed/21.json (deflated 73%)\n",
            "  adding: processed/101.json (deflated 85%)\n",
            "  adding: processed/90.json (deflated 93%)\n",
            "  adding: processed/89.json (deflated 88%)\n",
            "  adding: processed/105.json (deflated 88%)\n",
            "  adding: processed/1.json (deflated 92%)\n",
            "  adding: processed/27.json (deflated 75%)\n",
            "  adding: processed/40.json (deflated 83%)\n",
            "  adding: processed/102.json (deflated 88%)\n",
            "  adding: processed/104.json (deflated 87%)\n",
            "  adding: processed/17.json (deflated 82%)\n",
            "  adding: processed/62.json (deflated 74%)\n",
            "  adding: processed/4.json (deflated 90%)\n",
            "  adding: processed/51.json (deflated 81%)\n",
            "  adding: processed/55.json (deflated 88%)\n",
            "  adding: processed/24.json (deflated 77%)\n",
            "  adding: processed/65.json (deflated 86%)\n",
            "  adding: processed/100.json (deflated 84%)\n",
            "  adding: processed/29.json (deflated 71%)\n",
            "  adding: processed/46.json (deflated 67%)\n",
            "  adding: processed/54.json (deflated 81%)\n",
            "  adding: processed/97.json (deflated 91%)\n",
            "  adding: processed/85.json (deflated 89%)\n",
            "  adding: processed/50.json (deflated 93%)\n",
            "  adding: processed/23.json (deflated 75%)\n",
            "  adding: processed/48.json (deflated 68%)\n",
            "  adding: processed/56.json (deflated 69%)\n",
            "  adding: processed/11.json (deflated 89%)\n",
            "  adding: processed/77.json (deflated 87%)\n",
            "  adding: processed/9.json (deflated 87%)\n",
            "  adding: processed/109.json (deflated 86%)\n",
            "  adding: processed/12.json (deflated 73%)\n",
            "  adding: processed/34.json (deflated 87%)\n",
            "  adding: processed/20.json (deflated 75%)\n",
            "  adding: processed/42.json (deflated 75%)\n",
            "  adding: processed/99.json (deflated 88%)\n",
            "  adding: processed/69.json (deflated 90%)\n",
            "  adding: processed/80.json (deflated 88%)\n",
            "  adding: processed/44.json (stored 0%)\n",
            "  adding: processed/87.json (deflated 89%)\n",
            "  adding: processed/98.json (deflated 93%)\n",
            "  adding: processed/35.json (deflated 86%)\n",
            "  adding: processed/94.json (deflated 88%)\n",
            "  adding: processed/91.json (deflated 85%)\n",
            "  adding: processed/30.json (deflated 69%)\n"
          ]
        }
      ]
    },
    {
      "cell_type": "code",
      "source": [
        "from google.colab import files\n",
        "files.download('dataset3.zip')"
      ],
      "metadata": {
        "id": "UMfj5Jc56YSq",
        "colab": {
          "base_uri": "https://localhost:8080/",
          "height": 17
        },
        "outputId": "01b9b776-94d4-4938-aae0-52071ef2b1f4"
      },
      "execution_count": null,
      "outputs": [
        {
          "output_type": "display_data",
          "data": {
            "text/plain": [
              "<IPython.core.display.Javascript object>"
            ],
            "application/javascript": [
              "\n",
              "    async function download(id, filename, size) {\n",
              "      if (!google.colab.kernel.accessAllowed) {\n",
              "        return;\n",
              "      }\n",
              "      const div = document.createElement('div');\n",
              "      const label = document.createElement('label');\n",
              "      label.textContent = `Downloading \"${filename}\": `;\n",
              "      div.appendChild(label);\n",
              "      const progress = document.createElement('progress');\n",
              "      progress.max = size;\n",
              "      div.appendChild(progress);\n",
              "      document.body.appendChild(div);\n",
              "\n",
              "      const buffers = [];\n",
              "      let downloaded = 0;\n",
              "\n",
              "      const channel = await google.colab.kernel.comms.open(id);\n",
              "      // Send a message to notify the kernel that we're ready.\n",
              "      channel.send({})\n",
              "\n",
              "      for await (const message of channel.messages) {\n",
              "        // Send a message to notify the kernel that we're ready.\n",
              "        channel.send({})\n",
              "        if (message.buffers) {\n",
              "          for (const buffer of message.buffers) {\n",
              "            buffers.push(buffer);\n",
              "            downloaded += buffer.byteLength;\n",
              "            progress.value = downloaded;\n",
              "          }\n",
              "        }\n",
              "      }\n",
              "      const blob = new Blob(buffers, {type: 'application/binary'});\n",
              "      const a = document.createElement('a');\n",
              "      a.href = window.URL.createObjectURL(blob);\n",
              "      a.download = filename;\n",
              "      div.appendChild(a);\n",
              "      a.click();\n",
              "      div.remove();\n",
              "    }\n",
              "  "
            ]
          },
          "metadata": {}
        },
        {
          "output_type": "display_data",
          "data": {
            "text/plain": [
              "<IPython.core.display.Javascript object>"
            ],
            "application/javascript": [
              "download(\"download_db2b601f-8efb-463f-943e-8fe678cdeb10\", \"dataset3.zip\", 152844)"
            ]
          },
          "metadata": {}
        }
      ]
    },
    {
      "cell_type": "code",
      "source": [],
      "metadata": {
        "id": "xTzdJ6Dvw2Wp"
      },
      "execution_count": null,
      "outputs": []
    },
    {
      "cell_type": "markdown",
      "source": [],
      "metadata": {
        "id": "F9LkRTgJ6Umi"
      }
    }
  ]
}