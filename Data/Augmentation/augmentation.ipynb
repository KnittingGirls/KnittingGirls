{
  "nbformat": 4,
  "nbformat_minor": 0,
  "metadata": {
    "colab": {
      "provenance": [],
      "gpuType": "V28"
    },
    "kernelspec": {
      "name": "python3",
      "display_name": "Python 3"
    },
    "language_info": {
      "name": "python"
    },
    "accelerator": "TPU"
  },
  "cells": [
    {
      "cell_type": "code",
      "source": [
        "import os\n",
        "import cv2\n",
        "import numpy as np\n",
        "from tensorflow.keras.preprocessing.image import ImageDataGenerator\n",
        "from google.colab import drive\n",
        "\n",
        "# Google Drive 연결\n",
        "drive.mount('/content/drive')\n",
        "\n",
        "# 경로 설정\n",
        "input_path = '/content/drive/MyDrive/start-knitting-girls/UNet/master/datasets/inputs'\n",
        "label_path = '/content/drive/MyDrive/start-knitting-girls/UNet/master/datasets/labels'\n",
        "output_path_inputs = '/content/drive/MyDrive/start-knitting-girls/UNet/master/datasets/augmented_color2/inputs'\n",
        "output_path_labels = '/content/drive/MyDrive/start-knitting-girls/UNet/master/datasets/augmented_color2/labels'\n",
        "\n",
        "os.makedirs(output_path_inputs, exist_ok=True)\n",
        "os.makedirs(output_path_labels, exist_ok=True)\n",
        "\n",
        "# 데이터 증폭 설정\n",
        "data_gen_args = dict(\n",
        "    rotation_range=360,         # 랜덤 회전 범위\n",
        "    width_shift_range=0.2,      # 가로 이동 범위\n",
        "    height_shift_range=0.2,     # 세로 이동 범위\n",
        "    shear_range=0.2,            # 기울이기 범위\n",
        "    horizontal_flip=True,       # 좌우 반전\n",
        "    fill_mode='nearest'         # 빈 부분 채우기\n",
        ")\n",
        "\n",
        "image_datagen = ImageDataGenerator(**data_gen_args)\n",
        "label_datagen = ImageDataGenerator(**data_gen_args)\n",
        "\n",
        "# 랜덤 색 변환 함수\n",
        "def random_color_transform(image, hue_shift, sat_shift, val_shift):\n",
        "    hsv_image = cv2.cvtColor(image, cv2.COLOR_BGR2HSV)  # BGR -> HSV\n",
        "    hsv_image[..., 0] = (hsv_image[..., 0] + hue_shift) % 180  # Hue 변경\n",
        "    hsv_image[..., 1] = np.clip(hsv_image[..., 1] * sat_shift, 0, 255)  # Saturation 변경\n",
        "    hsv_image[..., 2] = np.clip(hsv_image[..., 2] * val_shift, 0, 255)  # Brightness 변경\n",
        "    return cv2.cvtColor(hsv_image, cv2.COLOR_HSV2BGR)  # HSV -> BGR\n",
        "\n",
        "# 파일 로드\n",
        "input_files = sorted([os.path.join(input_path, f) for f in os.listdir(input_path) if f.endswith('.jpg')])\n",
        "label_files = sorted([os.path.join(label_path, f) for f in os.listdir(label_path) if f.endswith('.jpg')])\n",
        "\n",
        "# 증폭 시작\n",
        "num_augmentations_per_image = 10  # 각 이미지당 생성할 데이터 수\n",
        "\n",
        "for idx, (input_file, label_file) in enumerate(zip(input_files, label_files), start=1):\n",
        "    input_img = cv2.imread(input_file)\n",
        "    label_img = cv2.imread(label_file)\n",
        "    input_img = np.expand_dims(input_img, 0)\n",
        "    label_img = np.expand_dims(label_img, 0)\n",
        "\n",
        "    input_gen = image_datagen.flow(input_img, batch_size=1, seed=42)\n",
        "    label_gen = label_datagen.flow(label_img, batch_size=1, seed=42)\n",
        "\n",
        "    for aug_idx in range(1, num_augmentations_per_image + 1):\n",
        "        aug_input = input_gen.next()[0].astype(np.uint8)\n",
        "        aug_label = label_gen.next()[0].astype(np.uint8)\n",
        "\n",
        "        # 색 변환\n",
        "        hue_shift = np.random.randint(0, 180)\n",
        "        sat_shift = np.random.uniform(0.5, 1.5)\n",
        "        val_shift = np.random.uniform(0.5, 1.5)\n",
        "\n",
        "        aug_input = random_color_transform(aug_input, hue_shift, sat_shift, val_shift)\n",
        "        aug_label = random_color_transform(aug_label, hue_shift, sat_shift, val_shift)\n",
        "\n",
        "        input_output_file = os.path.join(output_path_inputs, f'aumented_{idx}_{aug_idx}.jpg')\n",
        "        label_output_file = os.path.join(output_path_labels, f'aumented_{idx}_{aug_idx}.jpg')\n",
        "\n",
        "        cv2.imwrite(input_output_file, aug_input)\n",
        "        cv2.imwrite(label_output_file, aug_label)\n",
        "\n",
        "print(f\"총 {len(input_files) * num_augmentations_per_image}개의 데이터 증폭 완료\")\n"
      ],
      "metadata": {
        "colab": {
          "base_uri": "https://localhost:8080/",
          "height": 388
        },
        "id": "kMhGdvfv_x7Y",
        "outputId": "64ebddb9-dcb5-4542-9b38-50178a0f339a"
      },
      "execution_count": null,
      "outputs": [
        {
          "output_type": "error",
          "ename": "KeyboardInterrupt",
          "evalue": "",
          "traceback": [
            "\u001b[0;31m---------------------------------------------------------------------------\u001b[0m",
            "\u001b[0;31mKeyboardInterrupt\u001b[0m                         Traceback (most recent call last)",
            "\u001b[0;32m<ipython-input-9-40cd5727afaf>\u001b[0m in \u001b[0;36m<cell line: 8>\u001b[0;34m()\u001b[0m\n\u001b[1;32m      6\u001b[0m \u001b[0;34m\u001b[0m\u001b[0m\n\u001b[1;32m      7\u001b[0m \u001b[0;31m# Google Drive 연결\u001b[0m\u001b[0;34m\u001b[0m\u001b[0;34m\u001b[0m\u001b[0m\n\u001b[0;32m----> 8\u001b[0;31m \u001b[0mdrive\u001b[0m\u001b[0;34m.\u001b[0m\u001b[0mmount\u001b[0m\u001b[0;34m(\u001b[0m\u001b[0;34m'/content/drive'\u001b[0m\u001b[0;34m)\u001b[0m\u001b[0;34m\u001b[0m\u001b[0;34m\u001b[0m\u001b[0m\n\u001b[0m\u001b[1;32m      9\u001b[0m \u001b[0;34m\u001b[0m\u001b[0m\n\u001b[1;32m     10\u001b[0m \u001b[0;31m# 경로 설정\u001b[0m\u001b[0;34m\u001b[0m\u001b[0;34m\u001b[0m\u001b[0m\n",
            "\u001b[0;32m/usr/local/lib/python3.10/dist-packages/google/colab/drive.py\u001b[0m in \u001b[0;36mmount\u001b[0;34m(mountpoint, force_remount, timeout_ms, readonly)\u001b[0m\n\u001b[1;32m     98\u001b[0m \u001b[0;32mdef\u001b[0m \u001b[0mmount\u001b[0m\u001b[0;34m(\u001b[0m\u001b[0mmountpoint\u001b[0m\u001b[0;34m,\u001b[0m \u001b[0mforce_remount\u001b[0m\u001b[0;34m=\u001b[0m\u001b[0;32mFalse\u001b[0m\u001b[0;34m,\u001b[0m \u001b[0mtimeout_ms\u001b[0m\u001b[0;34m=\u001b[0m\u001b[0;36m120000\u001b[0m\u001b[0;34m,\u001b[0m \u001b[0mreadonly\u001b[0m\u001b[0;34m=\u001b[0m\u001b[0;32mFalse\u001b[0m\u001b[0;34m)\u001b[0m\u001b[0;34m:\u001b[0m\u001b[0;34m\u001b[0m\u001b[0;34m\u001b[0m\u001b[0m\n\u001b[1;32m     99\u001b[0m   \u001b[0;34m\"\"\"Mount your Google Drive at the specified mountpoint path.\"\"\"\u001b[0m\u001b[0;34m\u001b[0m\u001b[0;34m\u001b[0m\u001b[0m\n\u001b[0;32m--> 100\u001b[0;31m   return _mount(\n\u001b[0m\u001b[1;32m    101\u001b[0m       \u001b[0mmountpoint\u001b[0m\u001b[0;34m,\u001b[0m\u001b[0;34m\u001b[0m\u001b[0;34m\u001b[0m\u001b[0m\n\u001b[1;32m    102\u001b[0m       \u001b[0mforce_remount\u001b[0m\u001b[0;34m=\u001b[0m\u001b[0mforce_remount\u001b[0m\u001b[0;34m,\u001b[0m\u001b[0;34m\u001b[0m\u001b[0;34m\u001b[0m\u001b[0m\n",
            "\u001b[0;32m/usr/local/lib/python3.10/dist-packages/google/colab/drive.py\u001b[0m in \u001b[0;36m_mount\u001b[0;34m(mountpoint, force_remount, timeout_ms, ephemeral, readonly)\u001b[0m\n\u001b[1;32m    135\u001b[0m   )\n\u001b[1;32m    136\u001b[0m   \u001b[0;32mif\u001b[0m \u001b[0mephemeral\u001b[0m\u001b[0;34m:\u001b[0m\u001b[0;34m\u001b[0m\u001b[0;34m\u001b[0m\u001b[0m\n\u001b[0;32m--> 137\u001b[0;31m     _message.blocking_request(\n\u001b[0m\u001b[1;32m    138\u001b[0m         \u001b[0;34m'request_auth'\u001b[0m\u001b[0;34m,\u001b[0m\u001b[0;34m\u001b[0m\u001b[0;34m\u001b[0m\u001b[0m\n\u001b[1;32m    139\u001b[0m         \u001b[0mrequest\u001b[0m\u001b[0;34m=\u001b[0m\u001b[0;34m{\u001b[0m\u001b[0;34m'authType'\u001b[0m\u001b[0;34m:\u001b[0m \u001b[0;34m'dfs_ephemeral'\u001b[0m\u001b[0;34m}\u001b[0m\u001b[0;34m,\u001b[0m\u001b[0;34m\u001b[0m\u001b[0;34m\u001b[0m\u001b[0m\n",
            "\u001b[0;32m/usr/local/lib/python3.10/dist-packages/google/colab/_message.py\u001b[0m in \u001b[0;36mblocking_request\u001b[0;34m(request_type, request, timeout_sec, parent)\u001b[0m\n\u001b[1;32m    174\u001b[0m       \u001b[0mrequest_type\u001b[0m\u001b[0;34m,\u001b[0m \u001b[0mrequest\u001b[0m\u001b[0;34m,\u001b[0m \u001b[0mparent\u001b[0m\u001b[0;34m=\u001b[0m\u001b[0mparent\u001b[0m\u001b[0;34m,\u001b[0m \u001b[0mexpect_reply\u001b[0m\u001b[0;34m=\u001b[0m\u001b[0;32mTrue\u001b[0m\u001b[0;34m\u001b[0m\u001b[0;34m\u001b[0m\u001b[0m\n\u001b[1;32m    175\u001b[0m   )\n\u001b[0;32m--> 176\u001b[0;31m   \u001b[0;32mreturn\u001b[0m \u001b[0mread_reply_from_input\u001b[0m\u001b[0;34m(\u001b[0m\u001b[0mrequest_id\u001b[0m\u001b[0;34m,\u001b[0m \u001b[0mtimeout_sec\u001b[0m\u001b[0;34m)\u001b[0m\u001b[0;34m\u001b[0m\u001b[0;34m\u001b[0m\u001b[0m\n\u001b[0m",
            "\u001b[0;32m/usr/local/lib/python3.10/dist-packages/google/colab/_message.py\u001b[0m in \u001b[0;36mread_reply_from_input\u001b[0;34m(message_id, timeout_sec)\u001b[0m\n\u001b[1;32m     94\u001b[0m     \u001b[0mreply\u001b[0m \u001b[0;34m=\u001b[0m \u001b[0m_read_next_input_message\u001b[0m\u001b[0;34m(\u001b[0m\u001b[0;34m)\u001b[0m\u001b[0;34m\u001b[0m\u001b[0;34m\u001b[0m\u001b[0m\n\u001b[1;32m     95\u001b[0m     \u001b[0;32mif\u001b[0m \u001b[0mreply\u001b[0m \u001b[0;34m==\u001b[0m \u001b[0m_NOT_READY\u001b[0m \u001b[0;32mor\u001b[0m \u001b[0;32mnot\u001b[0m \u001b[0misinstance\u001b[0m\u001b[0;34m(\u001b[0m\u001b[0mreply\u001b[0m\u001b[0;34m,\u001b[0m \u001b[0mdict\u001b[0m\u001b[0;34m)\u001b[0m\u001b[0;34m:\u001b[0m\u001b[0;34m\u001b[0m\u001b[0;34m\u001b[0m\u001b[0m\n\u001b[0;32m---> 96\u001b[0;31m       \u001b[0mtime\u001b[0m\u001b[0;34m.\u001b[0m\u001b[0msleep\u001b[0m\u001b[0;34m(\u001b[0m\u001b[0;36m0.025\u001b[0m\u001b[0;34m)\u001b[0m\u001b[0;34m\u001b[0m\u001b[0;34m\u001b[0m\u001b[0m\n\u001b[0m\u001b[1;32m     97\u001b[0m       \u001b[0;32mcontinue\u001b[0m\u001b[0;34m\u001b[0m\u001b[0;34m\u001b[0m\u001b[0m\n\u001b[1;32m     98\u001b[0m     if (\n",
            "\u001b[0;31mKeyboardInterrupt\u001b[0m: "
          ]
        }
      ]
    },
    {
      "cell_type": "code",
      "source": [
        "#Data For DeepLabV3\n",
        "import os\n",
        "import cv2\n",
        "import numpy as np\n",
        "from tensorflow.keras.preprocessing.image import ImageDataGenerator\n",
        "from google.colab import drive\n",
        "\n",
        "# Google Drive 연결\n",
        "drive.mount('/content/drive')\n",
        "\n",
        "data_path='/content/drive/MyDrive/start-knitting-girls/dataForDeepLab/'\n",
        "data_list=[\"train\",\"val\",\"test\"]"
      ],
      "metadata": {
        "colab": {
          "base_uri": "https://localhost:8080/"
        },
        "id": "Cx9fyuZ_Fl6-",
        "outputId": "e74d6cac-912d-41f4-ce84-963fbb7ce0fe"
      },
      "execution_count": null,
      "outputs": [
        {
          "output_type": "stream",
          "name": "stdout",
          "text": [
            "Drive already mounted at /content/drive; to attempt to forcibly remount, call drive.mount(\"/content/drive\", force_remount=True).\n"
          ]
        }
      ]
    },
    {
      "cell_type": "code",
      "source": [
        "# 데이터 증폭 설정\n",
        "data_gen_args = dict(\n",
        "    rotation_range=360,         # 랜덤 회전 범위\n",
        "    width_shift_range=0.2,      # 가로 이동 범위\n",
        "    height_shift_range=0.2,     # 세로 이동 범위\n",
        "    shear_range=0.2,            # 기울이기 범위\n",
        "    horizontal_flip=True,       # 좌우 반전\n",
        "    fill_mode='constant',cval=0,         # 빈 부분 채우기\n",
        ")\n",
        "\n",
        "image_datagen = ImageDataGenerator(**data_gen_args)\n",
        "label_datagen = ImageDataGenerator(**data_gen_args)"
      ],
      "metadata": {
        "id": "QkuH2jCzFoEd"
      },
      "execution_count": null,
      "outputs": []
    },
    {
      "cell_type": "code",
      "source": [
        "# 랜덤 색 변환 함수\n",
        "def random_color_transform(image, hue_shift, sat_shift, val_shift):\n",
        "    hsv_image = cv2.cvtColor(image, cv2.COLOR_BGR2HSV)  # BGR -> HSV\n",
        "    hsv_image[..., 0] = (hsv_image[..., 0] + hue_shift) % 180  # Hue 변경\n",
        "    hsv_image[..., 1] = np.clip(hsv_image[..., 1] * sat_shift, 0, 255)  # Saturation 변경\n",
        "    hsv_image[..., 2] = np.clip(hsv_image[..., 2] * val_shift, 0, 255)  # Brightness 변경\n",
        "    return cv2.cvtColor(hsv_image, cv2.COLOR_HSV2BGR)  # HSV -> BGR"
      ],
      "metadata": {
        "id": "lBjeI4cKFwI0"
      },
      "execution_count": null,
      "outputs": []
    },
    {
      "cell_type": "code",
      "source": [
        "\n",
        "# 경로 설정\n",
        "\n",
        "for item in data_list:\n",
        "  input_path = os.path.join(data_path,item,\"image\")\n",
        "  label_path = os.path.join(data_path,item,\"label\")\n",
        "  output_path_inputs = os.path.join(data_path,\"augmented_color2\",item,\"image\")\n",
        "  output_path_labels = os.path.join(data_path,\"augmented_color2\",item,\"label\")\n",
        "\n",
        "  os.makedirs(output_path_inputs, exist_ok=True)\n",
        "  os.makedirs(output_path_labels, exist_ok=True)\n",
        "\n",
        "\n",
        "\n",
        "\n",
        "  # 파일 로드\n",
        "  input_files = sorted([os.path.join(input_path, f) for f in os.listdir(input_path) if f.endswith('.jpg')])\n",
        "  label_files = sorted([os.path.join(label_path, f) for f in os.listdir(label_path) if f.endswith('.jpg')])\n",
        "\n",
        "  # 증폭 시작\n",
        "  num_augmentations_per_image = 10  # 각 이미지당 생성할 데이터 수\n",
        "\n",
        "  for idx, (input_file, label_file) in enumerate(zip(input_files, label_files), start=1):\n",
        "      input_img = cv2.imread(input_file)\n",
        "      label_img = cv2.imread(label_file)\n",
        "      input_img = np.expand_dims(input_img, 0)\n",
        "      label_img = np.expand_dims(label_img, 0)\n",
        "\n",
        "      input_gen = image_datagen.flow(input_img, batch_size=1, seed=42)\n",
        "      label_gen = label_datagen.flow(label_img, batch_size=1, seed=42)\n",
        "\n",
        "      for aug_idx in range(1, num_augmentations_per_image + 1):\n",
        "          aug_input = input_gen.next()[0].astype(np.uint8)\n",
        "          aug_label = label_gen.next()[0].astype(np.uint8)\n",
        "\n",
        "          # 색 변환\n",
        "          hue_shift = np.random.randint(0, 180)\n",
        "          sat_shift = np.random.uniform(0.5, 1.5)\n",
        "          val_shift = np.random.uniform(0.5, 1.5)\n",
        "\n",
        "          aug_input = random_color_transform(aug_input, hue_shift, sat_shift, val_shift)\n",
        "          # aug_label = random_color_transform(aug_label, hue_shift, sat_shift, val_shift)\n",
        "\n",
        "          # input_output_file = os.path.join(output_path_inputs, f'augmented_{idx}_{aug_idx}.jpg')\n",
        "          # label_output_file = os.path.join(output_path_labels, f'augmented_{idx}_{aug_idx}.jpg')\n",
        "          img_num=idx*10+aug_idx\n",
        "          input_output_file = os.path.join(output_path_inputs, f'{img_num}.jpg')\n",
        "          label_output_file = os.path.join(output_path_labels, f'annotated_{img_num}.jpg')\n",
        "\n",
        "          cv2.imwrite(input_output_file, aug_input)\n",
        "          cv2.imwrite(label_output_file, aug_label)\n",
        "\n",
        "  print(f\"총 {len(input_files) * num_augmentations_per_image}개의 데이터 증폭 완료\")\n"
      ],
      "metadata": {
        "colab": {
          "base_uri": "https://localhost:8080/"
        },
        "id": "x5_OK7zkD4Oc",
        "outputId": "a1c0eaa7-c9d2-4c9c-c48f-83239f0738ff"
      },
      "execution_count": null,
      "outputs": [
        {
          "output_type": "stream",
          "name": "stdout",
          "text": [
            "총 740개의 데이터 증폭 완료\n",
            "총 90개의 데이터 증폭 완료\n",
            "총 230개의 데이터 증폭 완료\n"
          ]
        }
      ]
    }
  ]
}